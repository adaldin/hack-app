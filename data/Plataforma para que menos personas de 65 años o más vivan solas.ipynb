{
 "cells": [
  {
   "cell_type": "code",
   "execution_count": 1,
   "id": "8a55dee7",
   "metadata": {},
   "outputs": [],
   "source": [
    "#data exploration\n",
    "import pandas as pd\n",
    "import numpy as np\n",
    "import matplotlib.pyplot as plt\n",
    "import seaborn as sns\n",
    "import tabula\n",
    "import requests\n",
    "from tika import parser\n",
    "import PyPDF2"
   ]
  },
  {
   "cell_type": "code",
   "execution_count": 2,
   "id": "b86e0e24",
   "metadata": {},
   "outputs": [
    {
     "data": {
      "text/html": [
       "<div>\n",
       "<style scoped>\n",
       "    .dataframe tbody tr th:only-of-type {\n",
       "        vertical-align: middle;\n",
       "    }\n",
       "\n",
       "    .dataframe tbody tr th {\n",
       "        vertical-align: top;\n",
       "    }\n",
       "\n",
       "    .dataframe thead th {\n",
       "        text-align: right;\n",
       "    }\n",
       "</style>\n",
       "<table border=\"1\" class=\"dataframe\">\n",
       "  <thead>\n",
       "    <tr style=\"text-align: right;\">\n",
       "      <th></th>\n",
       "      <th>CODI_DIVISIO_TERRITORIAL</th>\n",
       "      <th>NOM_DIVISIO_TERRITORIAL</th>\n",
       "      <th>CATEGORIA_DIVISIO</th>\n",
       "      <th>CODI_DIVISIO_TERRITORIAL_PARE</th>\n",
       "      <th>URL_FITXA_DIVISIO_TERRITORIAL</th>\n",
       "    </tr>\n",
       "  </thead>\n",
       "  <tbody>\n",
       "    <tr>\n",
       "      <th>0</th>\n",
       "      <td>B-01</td>\n",
       "      <td>el Raval</td>\n",
       "      <td>Barri</td>\n",
       "      <td>D-01</td>\n",
       "      <td>https://ajuntament.barcelona.cat/estadistica/c...</td>\n",
       "    </tr>\n",
       "    <tr>\n",
       "      <th>1</th>\n",
       "      <td>B-02</td>\n",
       "      <td>el Barri Gòtic</td>\n",
       "      <td>Barri</td>\n",
       "      <td>D-01</td>\n",
       "      <td>https://ajuntament.barcelona.cat/estadistica/c...</td>\n",
       "    </tr>\n",
       "    <tr>\n",
       "      <th>2</th>\n",
       "      <td>B-03</td>\n",
       "      <td>la Barceloneta</td>\n",
       "      <td>Barri</td>\n",
       "      <td>D-01</td>\n",
       "      <td>https://ajuntament.barcelona.cat/estadistica/c...</td>\n",
       "    </tr>\n",
       "    <tr>\n",
       "      <th>3</th>\n",
       "      <td>B-04</td>\n",
       "      <td>Sant Pere, Santa Caterina i la Ribera</td>\n",
       "      <td>Barri</td>\n",
       "      <td>D-01</td>\n",
       "      <td>https://ajuntament.barcelona.cat/estadistica/c...</td>\n",
       "    </tr>\n",
       "    <tr>\n",
       "      <th>4</th>\n",
       "      <td>B-05</td>\n",
       "      <td>el Fort Pienc</td>\n",
       "      <td>Barri</td>\n",
       "      <td>D-02</td>\n",
       "      <td>https://ajuntament.barcelona.cat/estadistica/c...</td>\n",
       "    </tr>\n",
       "  </tbody>\n",
       "</table>\n",
       "</div>"
      ],
      "text/plain": [
       "  CODI_DIVISIO_TERRITORIAL                NOM_DIVISIO_TERRITORIAL  \\\n",
       "0                     B-01                               el Raval   \n",
       "1                     B-02                         el Barri Gòtic   \n",
       "2                     B-03                         la Barceloneta   \n",
       "3                     B-04  Sant Pere, Santa Caterina i la Ribera   \n",
       "4                     B-05                          el Fort Pienc   \n",
       "\n",
       "  CATEGORIA_DIVISIO CODI_DIVISIO_TERRITORIAL_PARE  \\\n",
       "0             Barri                          D-01   \n",
       "1             Barri                          D-01   \n",
       "2             Barri                          D-01   \n",
       "3             Barri                          D-01   \n",
       "4             Barri                          D-02   \n",
       "\n",
       "                       URL_FITXA_DIVISIO_TERRITORIAL  \n",
       "0  https://ajuntament.barcelona.cat/estadistica/c...  \n",
       "1  https://ajuntament.barcelona.cat/estadistica/c...  \n",
       "2  https://ajuntament.barcelona.cat/estadistica/c...  \n",
       "3  https://ajuntament.barcelona.cat/estadistica/c...  \n",
       "4  https://ajuntament.barcelona.cat/estadistica/c...  "
      ]
     },
     "execution_count": 2,
     "metadata": {},
     "output_type": "execute_result"
    }
   ],
   "source": [
    "df = pd.read_csv(\"2019_divter.csv\")\n",
    "df.head (5)"
   ]
  },
  {
   "cell_type": "code",
   "execution_count": 3,
   "id": "8f054356",
   "metadata": {},
   "outputs": [
    {
     "data": {
      "text/plain": [
       "CODI_DIVISIO_TERRITORIAL         83\n",
       "NOM_DIVISIO_TERRITORIAL          82\n",
       "CATEGORIA_DIVISIO                 2\n",
       "CODI_DIVISIO_TERRITORIAL_PARE    10\n",
       "URL_FITXA_DIVISIO_TERRITORIAL    73\n",
       "dtype: int64"
      ]
     },
     "execution_count": 3,
     "metadata": {},
     "output_type": "execute_result"
    }
   ],
   "source": [
    "df.nunique()"
   ]
  },
  {
   "cell_type": "code",
   "execution_count": 4,
   "id": "ff2ccd23",
   "metadata": {},
   "outputs": [
    {
     "name": "stdout",
     "output_type": "stream",
     "text": [
      "<class 'pandas.core.frame.DataFrame'>\n",
      "RangeIndex: 83 entries, 0 to 82\n",
      "Data columns (total 5 columns):\n",
      " #   Column                         Non-Null Count  Dtype \n",
      "---  ------                         --------------  ----- \n",
      " 0   CODI_DIVISIO_TERRITORIAL       83 non-null     object\n",
      " 1   NOM_DIVISIO_TERRITORIAL        83 non-null     object\n",
      " 2   CATEGORIA_DIVISIO              83 non-null     object\n",
      " 3   CODI_DIVISIO_TERRITORIAL_PARE  73 non-null     object\n",
      " 4   URL_FITXA_DIVISIO_TERRITORIAL  73 non-null     object\n",
      "dtypes: object(5)\n",
      "memory usage: 3.4+ KB\n"
     ]
    }
   ],
   "source": [
    "df.info()"
   ]
  },
  {
   "cell_type": "code",
   "execution_count": 5,
   "id": "32884c40",
   "metadata": {
    "scrolled": true
   },
   "outputs": [
    {
     "data": {
      "text/plain": [
       "CODI_DIVISIO_TERRITORIAL          0\n",
       "NOM_DIVISIO_TERRITORIAL           0\n",
       "CATEGORIA_DIVISIO                 0\n",
       "CODI_DIVISIO_TERRITORIAL_PARE    10\n",
       "URL_FITXA_DIVISIO_TERRITORIAL    10\n",
       "dtype: int64"
      ]
     },
     "execution_count": 5,
     "metadata": {},
     "output_type": "execute_result"
    }
   ],
   "source": [
    "df.isna().sum()"
   ]
  },
  {
   "cell_type": "code",
   "execution_count": 6,
   "id": "aedf1b16",
   "metadata": {},
   "outputs": [],
   "source": [
    "df = df.dropna()"
   ]
  },
  {
   "cell_type": "code",
   "execution_count": 7,
   "id": "fe464cfc",
   "metadata": {},
   "outputs": [],
   "source": [
    "list_1 = []\n",
    "list_2 = []\n",
    "list_3 = []\n",
    "list_4 = []\n",
    "list_5 = []\n",
    "list_6 = []"
   ]
  },
  {
   "cell_type": "code",
   "execution_count": 25,
   "id": "c869a413",
   "metadata": {},
   "outputs": [],
   "source": [
    "for i, url in enumerate(df['URL_FITXA_DIVISIO_TERRITORIAL']):\n",
    "    myfile = requests.get(url, allow_redirects=True)\n",
    "    file_name = r'C:\\Users\\Pepo\\IT ACADEMY DATA SCIENCE\\HACKATLON OCTUBRE 2022\\Archivos pdf/' + str(i) + '.pdf'\n",
    "    with open(file_name, 'wb') as f:\n",
    "        f.write(myfile.content)\n",
    "      \n",
    "    #file = tabula.read_pdf(file_name, pages='all')[0]\n",
    "    \n",
    "   # creating a pdf reader object\n",
    "    fileReader = PyPDF2.PdfFileReader(file_name)\n",
    "\n",
    "    text = ''\n",
    "    for page in fileReader.pages:\n",
    "        text += page.extract_text() + \"\\n\"\n",
    "    data = text.split('\\n')\n",
    "    \n",
    "   \n",
    "    for i, line in enumerate(data):\n",
    "        barrio_name = data[0].strip()\n",
    "        tils = data[32].split(' ')[-3]\n",
    "        old = data[34].split(' ')[-3]\n",
    "        renda = data[40].split(' ')[-3]\n",
    "        index = data[35].split(' ')[-3]\n",
    "        aturats = data[39].split(' ')[-3]\n",
    "        list_1.append(barrio_name)\n",
    "        list_2.append(tils)\n",
    "        list_3.append(old)\n",
    "        list_4.append(renda)\n",
    "        list_5.append(index)\n",
    "        list_6.append(aturats)\n",
    "       \n",
    "   "
   ]
  },
  {
   "cell_type": "code",
   "execution_count": 29,
   "id": "71d6252d",
   "metadata": {},
   "outputs": [],
   "source": [
    "data1 = pd.DataFrame(list_1)"
   ]
  },
  {
   "cell_type": "code",
   "execution_count": 30,
   "id": "d5dd805a",
   "metadata": {},
   "outputs": [
    {
     "data": {
      "text/html": [
       "<div>\n",
       "<style scoped>\n",
       "    .dataframe tbody tr th:only-of-type {\n",
       "        vertical-align: middle;\n",
       "    }\n",
       "\n",
       "    .dataframe tbody tr th {\n",
       "        vertical-align: top;\n",
       "    }\n",
       "\n",
       "    .dataframe thead th {\n",
       "        text-align: right;\n",
       "    }\n",
       "</style>\n",
       "<table border=\"1\" class=\"dataframe\">\n",
       "  <thead>\n",
       "    <tr style=\"text-align: right;\">\n",
       "      <th></th>\n",
       "      <th>0</th>\n",
       "    </tr>\n",
       "  </thead>\n",
       "  <tbody>\n",
       "    <tr>\n",
       "      <th>0</th>\n",
       "      <td>Barri el Raval</td>\n",
       "    </tr>\n",
       "    <tr>\n",
       "      <th>1</th>\n",
       "      <td>Barri el Raval</td>\n",
       "    </tr>\n",
       "    <tr>\n",
       "      <th>2</th>\n",
       "      <td>Barri el Raval</td>\n",
       "    </tr>\n",
       "    <tr>\n",
       "      <th>3</th>\n",
       "      <td>Barri el Raval</td>\n",
       "    </tr>\n",
       "    <tr>\n",
       "      <th>4</th>\n",
       "      <td>Barri el Raval</td>\n",
       "    </tr>\n",
       "    <tr>\n",
       "      <th>...</th>\n",
       "      <td>...</td>\n",
       "    </tr>\n",
       "    <tr>\n",
       "      <th>4791</th>\n",
       "      <td>Barri la Verneda i la Pau</td>\n",
       "    </tr>\n",
       "    <tr>\n",
       "      <th>4792</th>\n",
       "      <td>Barri la Verneda i la Pau</td>\n",
       "    </tr>\n",
       "    <tr>\n",
       "      <th>4793</th>\n",
       "      <td>Barri la Verneda i la Pau</td>\n",
       "    </tr>\n",
       "    <tr>\n",
       "      <th>4794</th>\n",
       "      <td>Barri la Verneda i la Pau</td>\n",
       "    </tr>\n",
       "    <tr>\n",
       "      <th>4795</th>\n",
       "      <td>Barri la Verneda i la Pau</td>\n",
       "    </tr>\n",
       "  </tbody>\n",
       "</table>\n",
       "<p>4796 rows × 1 columns</p>\n",
       "</div>"
      ],
      "text/plain": [
       "                              0\n",
       "0                Barri el Raval\n",
       "1                Barri el Raval\n",
       "2                Barri el Raval\n",
       "3                Barri el Raval\n",
       "4                Barri el Raval\n",
       "...                         ...\n",
       "4791  Barri la Verneda i la Pau\n",
       "4792  Barri la Verneda i la Pau\n",
       "4793  Barri la Verneda i la Pau\n",
       "4794  Barri la Verneda i la Pau\n",
       "4795  Barri la Verneda i la Pau\n",
       "\n",
       "[4796 rows x 1 columns]"
      ]
     },
     "execution_count": 30,
     "metadata": {},
     "output_type": "execute_result"
    }
   ],
   "source": [
    "data1"
   ]
  },
  {
   "cell_type": "code",
   "execution_count": null,
   "id": "cf192e3f",
   "metadata": {},
   "outputs": [],
   "source": [
    "df_final _"
   ]
  },
  {
   "cell_type": "code",
   "execution_count": 22,
   "id": "79013680",
   "metadata": {},
   "outputs": [],
   "source": [
    "list_ = [[list_1, list_2, list_3, list_4, list_5, list_6]]"
   ]
  },
  {
   "cell_type": "code",
   "execution_count": null,
   "id": "be09fccd",
   "metadata": {},
   "outputs": [],
   "source": []
  },
  {
   "cell_type": "code",
   "execution_count": 23,
   "id": "844f53f4",
   "metadata": {},
   "outputs": [],
   "source": [
    "df3 = pd.DataFrame(list_, columns = ['Nombre del barrio', \n",
    "                                     'Titulados superiores i CFGS',\n",
    "                                     'Poblacion > 65 años',\n",
    "                                     'Renta familiar', \n",
    "                                     'index',\n",
    "                                     'Numero de parados'])"
   ]
  },
  {
   "cell_type": "code",
   "execution_count": 24,
   "id": "7a7f734e",
   "metadata": {},
   "outputs": [
    {
     "data": {
      "text/html": [
       "<div>\n",
       "<style scoped>\n",
       "    .dataframe tbody tr th:only-of-type {\n",
       "        vertical-align: middle;\n",
       "    }\n",
       "\n",
       "    .dataframe tbody tr th {\n",
       "        vertical-align: top;\n",
       "    }\n",
       "\n",
       "    .dataframe thead th {\n",
       "        text-align: right;\n",
       "    }\n",
       "</style>\n",
       "<table border=\"1\" class=\"dataframe\">\n",
       "  <thead>\n",
       "    <tr style=\"text-align: right;\">\n",
       "      <th></th>\n",
       "      <th>Nombre del barrio</th>\n",
       "      <th>Titulados superiores i CFGS</th>\n",
       "      <th>Poblacion &gt; 65 años</th>\n",
       "      <th>Renta familiar</th>\n",
       "      <th>index</th>\n",
       "      <th>Numero de parados</th>\n",
       "    </tr>\n",
       "  </thead>\n",
       "  <tbody>\n",
       "    <tr>\n",
       "      <th>0</th>\n",
       "      <td>[Barri el Raval, Barri el Raval, Barri el Rava...</td>\n",
       "      <td>[27,2, 27,2, 27,2, 27,2, 27,2, 27,2, 27,2, 27,...</td>\n",
       "      <td>[31,9, 31,9, 31,9, 31,9, 31,9, 31,9, 31,9, 31,...</td>\n",
       "      <td>[71,2, 71,2, 71,2, 71,2, 71,2, 71,2, 71,2, 71,...</td>\n",
       "      <td>[50,7, 50,7, 50,7, 50,7, 50,7, 50,7, 50,7, 50,...</td>\n",
       "      <td>[3.074, 3.074, 3.074, 3.074, 3.074, 3.074, 3.0...</td>\n",
       "    </tr>\n",
       "  </tbody>\n",
       "</table>\n",
       "</div>"
      ],
      "text/plain": [
       "                                   Nombre del barrio  \\\n",
       "0  [Barri el Raval, Barri el Raval, Barri el Rava...   \n",
       "\n",
       "                         Titulados superiores i CFGS  \\\n",
       "0  [27,2, 27,2, 27,2, 27,2, 27,2, 27,2, 27,2, 27,...   \n",
       "\n",
       "                                 Poblacion > 65 años  \\\n",
       "0  [31,9, 31,9, 31,9, 31,9, 31,9, 31,9, 31,9, 31,...   \n",
       "\n",
       "                                      Renta familiar  \\\n",
       "0  [71,2, 71,2, 71,2, 71,2, 71,2, 71,2, 71,2, 71,...   \n",
       "\n",
       "                                               index  \\\n",
       "0  [50,7, 50,7, 50,7, 50,7, 50,7, 50,7, 50,7, 50,...   \n",
       "\n",
       "                                   Numero de parados  \n",
       "0  [3.074, 3.074, 3.074, 3.074, 3.074, 3.074, 3.0...  "
      ]
     },
     "execution_count": 24,
     "metadata": {},
     "output_type": "execute_result"
    }
   ],
   "source": [
    "df3"
   ]
  },
  {
   "cell_type": "code",
   "execution_count": null,
   "id": "4fa9f17b",
   "metadata": {},
   "outputs": [],
   "source": []
  }
 ],
 "metadata": {
  "kernelspec": {
   "display_name": "Python 3 (ipykernel)",
   "language": "python",
   "name": "python3"
  },
  "language_info": {
   "codemirror_mode": {
    "name": "ipython",
    "version": 3
   },
   "file_extension": ".py",
   "mimetype": "text/x-python",
   "name": "python",
   "nbconvert_exporter": "python",
   "pygments_lexer": "ipython3",
   "version": "3.9.7"
  }
 },
 "nbformat": 4,
 "nbformat_minor": 5
}
